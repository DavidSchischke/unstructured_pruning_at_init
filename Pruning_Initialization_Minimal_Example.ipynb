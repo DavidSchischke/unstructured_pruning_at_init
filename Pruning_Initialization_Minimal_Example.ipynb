{
 "cells": [
  {
   "cell_type": "code",
   "execution_count": null,
   "metadata": {},
   "outputs": [],
   "source": [
    "from time import time \n",
    "from copy import deepcopy\n",
    "\n",
    "import torch\n",
    "import numpy as np \n",
    "\n",
    "from torch import nn\n",
    "\n",
    "from torch.nn import CrossEntropyLoss\n",
    "from torch.optim import Adam\n",
    "from torch.nn.utils import prune\n",
    "from torch.utils.data import DataLoader\n",
    "\n",
    "from torchvision import models\n",
    "from torchvision.datasets.cifar import CIFAR10\n",
    "from torchvision.transforms import ToTensor, Lambda\n",
    "\n",
    "from tqdm import tqdm\n",
    "from scipy.stats import ttest_ind\n",
    "\n",
    "# Note: I ran this on a GPU instance\n",
    "DEVICE = \"cuda\" if torch.cuda.is_available() else \"cpu\""
   ]
  },
  {
   "attachments": {},
   "cell_type": "markdown",
   "metadata": {},
   "source": [
    "# Loading the data"
   ]
  },
  {
   "cell_type": "code",
   "execution_count": null,
   "metadata": {},
   "outputs": [],
   "source": [
    "def load_CIFAR10(batch_size: int = 128, shuffle: bool = True): \n",
    "    \"\"\"Load CIFAR10 data from memory\"\"\"\n",
    "    \n",
    "    try: \n",
    "        train = CIFAR10(\n",
    "            root = \"data\", \n",
    "            train = True,\n",
    "            download=False,\n",
    "            transform = ToTensor(), \n",
    "            target_transform=Lambda(lambda y: torch.zeros(10, dtype=torch.float).scatter_(0, torch.tensor(y), value=1))\n",
    "        )\n",
    "        \n",
    "        test = CIFAR10(\n",
    "            root = \"data\", \n",
    "            train = False,\n",
    "            download=False,\n",
    "            transform = ToTensor(), \n",
    "            target_transform=Lambda(lambda y: torch.zeros(10, dtype=torch.float).scatter_(0, torch.tensor(y), value=1))\n",
    "        )\n",
    "    except: \n",
    "        train = CIFAR10(\n",
    "            root = \"data\", \n",
    "            train = True,\n",
    "            download = True,\n",
    "            transform = ToTensor(), \n",
    "            target_transform=Lambda(lambda y: torch.zeros(10, dtype=torch.float).scatter_(0, torch.tensor(y), value=1))\n",
    "        )\n",
    "        \n",
    "        test = CIFAR10(\n",
    "            root = \"data\", \n",
    "            train = False,\n",
    "            download =True,\n",
    "            transform = ToTensor(), \n",
    "            target_transform=Lambda(lambda y: torch.zeros(10, dtype=torch.float).scatter_(0, torch.tensor(y), value=1))\n",
    "        )\n",
    "        \n",
    "    train_data = DataLoader(train, batch_size=batch_size, shuffle=shuffle)\n",
    "    test_data  = DataLoader(test, batch_size=batch_size, shuffle=shuffle)\n",
    "    \n",
    "    return train_data, test_data\n",
    "\n",
    "train_data, test_data = load_CIFAR10()"
   ]
  },
  {
   "attachments": {},
   "cell_type": "markdown",
   "metadata": {},
   "source": [
    "# Defining Train and Test Loop"
   ]
  },
  {
   "cell_type": "code",
   "execution_count": null,
   "metadata": {},
   "outputs": [],
   "source": [
    "def train(train_data, model, loss_func, optim): \n",
    "    \"\"\"Apply one step of training\"\"\"\n",
    "    size = len(train_data.dataset)\n",
    "    for batch, (X, y) in enumerate(train_data):\n",
    "        X, y = X.to(DEVICE), y.to(DEVICE)\n",
    "\n",
    "        pred = model(X)\n",
    "        loss = loss_func(pred, y)\n",
    "        \n",
    "        # Optimization \n",
    "        optim.zero_grad() \n",
    "        loss.backward()\n",
    "        optim.step()\n",
    "\n",
    "def test(test_data, model, loss_func, optim):\n",
    "    \"\"\"Evaluate the model on the test set\"\"\"\n",
    "    size = len(test_data.dataset)\n",
    "    n_batch = len(test_data)\n",
    "    test_loss, correct = 0, 0\n",
    "    \n",
    "    with torch.no_grad():\n",
    "        for X, y in test_data:\n",
    "            X, y = X.to(DEVICE), y.to(DEVICE)\n",
    "            y_hat = model(X)\n",
    "            test_loss += loss_func(y_hat, y).item()\n",
    "            \n",
    "            correct += (y_hat.argmax(1) == y.argmax(1)).type(torch.float).sum().item()\n",
    "            \n",
    "    test_loss /= n_batch\n",
    "    correct /= size \n",
    "    \n",
    "    print(f\"Accuracy: {100*correct:>0.1f}%, Avg loss: {test_loss:>8f}\\n\")"
   ]
  },
  {
   "attachments": {},
   "cell_type": "markdown",
   "metadata": {},
   "source": [
    "# Defining the pruning methods"
   ]
  },
  {
   "cell_type": "code",
   "execution_count": null,
   "metadata": {},
   "outputs": [],
   "source": [
    "LAYERS = [\"conv\", \"linear\"]\n",
    "\n",
    "def prune_resnet(model, ratio): \n",
    "  \"\"\"Iterate through layers of the model and prune linear and conv layers\"\"\"\n",
    "  \n",
    "  for name, layer in model.named_modules():\n",
    "    if any(x in name for x in LAYERS):\n",
    "      prune.l1_unstructured(layer, name = \"weight\", amount = ratio)\n",
    "      if hasattr(layer, \"bias\") and layer.bias != None:\n",
    "          prune.l1_unstructured(layer, name = \"bias\", amount = ratio)\n",
    "\n",
    "  return model"
   ]
  },
  {
   "attachments": {},
   "cell_type": "markdown",
   "metadata": {},
   "source": [
    "# Evaluate pruning training efficiency"
   ]
  },
  {
   "cell_type": "code",
   "execution_count": null,
   "metadata": {},
   "outputs": [],
   "source": [
    "def eval_training(model, niter):\n",
    "  \"\"\"Train a model for a fixed number of iterations.\"\"\"\n",
    "  loss = CrossEntropyLoss()\n",
    "  optim = Adam(model.parameters(), lr = 1e-3)\n",
    "\n",
    "  exec_time = []\n",
    "\n",
    "  for e in tqdm(range(niter)): \n",
    "    start = time()\n",
    "    train(train_data, model, loss, optim, DEVICE)\n",
    "    end = time()\n",
    "    exec_time.append(end-start)\n",
    "  \n",
    "  test(test_data, model, loss, optim, DEVICE)\n",
    "  \n",
    "  return exec_time, model\n",
    "\n",
    "def compare_training_time(model, niter = 10, ratio = 0.6):\n",
    "  \"\"\"\n",
    "  Create a deepcopy of the ResNet model and prune it. Then train \n",
    "  both models for a fixed number of iterations and print the  \n",
    "  \"\"\"\n",
    "  model_prune = prune_resnet(deepcopy(model), ratio = ratio)\n",
    "\n",
    "  print(\"### Unpruned training ###\")\n",
    "  exec_time_t, model_t = eval_training(model, niter)\n",
    "  \n",
    "  print(\"### Pruned training ###\")\n",
    "  exec_time_pt, model_pt = eval_training(model_prune, niter)\n",
    "\n",
    "  print(f\"Unpruned: M = {np.round(np.mean(exec_time_t), 4)}, SD = {np.round(np.std(exec_time_t), 4)}\")\n",
    "  print(f\"Pruned: M = {np.round(np.mean(exec_time_t), 4)}, SD = {np.round(np.std(exec_time_t), 4)}\")\n",
    "  \n",
    "  print(ttest_ind(exec_time_t, exec_time_pt))\n",
    "\n",
    "  return model_t, model_pt"
   ]
  },
  {
   "cell_type": "code",
   "execution_count": null,
   "metadata": {},
   "outputs": [],
   "source": [
    "testnet = models.resnet50(num_classes = 10).to(DEVICE)\n",
    "\n",
    "model_t, model_pt = compare_training_time(testnet, niter = 20)"
   ]
  },
  {
   "attachments": {},
   "cell_type": "markdown",
   "metadata": {},
   "source": [
    "# Evaluate pruning inference efficiency"
   ]
  },
  {
   "cell_type": "code",
   "execution_count": null,
   "metadata": {},
   "outputs": [],
   "source": [
    "def eval_inference(model, niter = 10): \n",
    "  \"\"\"\n",
    "  Get the time required for inference on the full test set for a fixed \n",
    "  number of iterations.\n",
    "  \"\"\"\n",
    "  duration = []\n",
    "  for i in tqdm(range(niter)):\n",
    "    start = time()\n",
    "    for batch in train_data:\n",
    "      with torch.no_grad():\n",
    "        data = batch[0].to(DEVICE) \n",
    "        model(data)\n",
    "    stop = time()\n",
    "    duration.append(stop - start)\n",
    "  return duration \n",
    "\n",
    "def compare_inference_time(model_t, model_pt, niter = 20):\n",
    "  \"\"\"\n",
    "  Use the trained models without/with pruning for inference by running\n",
    "  the full training set for a fixed number of iterations. \n",
    "  \"\"\"\n",
    "\n",
    "  print(\"### Unpruned inference ###\")\n",
    "  exec_time_t, model_t = eval_inference(model_t, niter)\n",
    "  \n",
    "  print(\"### Pruned inference ###\")\n",
    "  exec_time_pt, model_pt = eval_inference(model_pt, niter)\n",
    "\n",
    "  print(f\"Unpruned: M = {np.round(np.mean(exec_time_t), 4)}, SD = {np.round(np.std(exec_time_t), 4)}\")\n",
    "  print(f\"Pruned: M = {np.round(np.mean(exec_time_t), 4)}, SD = {np.round(np.std(exec_time_t), 4)}\")\n",
    "  \n",
    "  print(ttest_ind(exec_time_t, exec_time_pt))"
   ]
  },
  {
   "cell_type": "code",
   "execution_count": null,
   "metadata": {},
   "outputs": [],
   "source": [
    "compare_inference_time(model_t, model_pt)"
   ]
  }
 ],
 "metadata": {
  "kernelspec": {
   "display_name": "torch",
   "language": "python",
   "name": "python3"
  },
  "language_info": {
   "codemirror_mode": {
    "name": "ipython",
    "version": 3
   },
   "file_extension": ".py",
   "mimetype": "text/x-python",
   "name": "python",
   "nbconvert_exporter": "python",
   "pygments_lexer": "ipython3",
   "version": "3.9.15"
  },
  "orig_nbformat": 4,
  "vscode": {
   "interpreter": {
    "hash": "3e88cdac7d2e701fef9292495ee6bd750d2abc055387fdaf3b76ef9c7a6be88f"
   }
  }
 },
 "nbformat": 4,
 "nbformat_minor": 2
}
